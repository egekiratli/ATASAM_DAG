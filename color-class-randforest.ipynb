{
 "cells": [
  {
   "cell_type": "markdown",
   "id": "85c2bb5b",
   "metadata": {},
   "source": [
    "# Star Classification Using Color Values\n",
    "\n",
    "This notebook demonstrates a modular framework for extracting, analyzing, and classifying stars from `.fits` observation files using color indices and machine learning. The approach is inspired by previous research on blue objects and subdwarfs."
   ]
  },
  {
   "cell_type": "markdown",
   "id": "da0a0d6c",
   "metadata": {},
   "source": [
    "## 1. Import Required Libraries\n",
    "\n",
    "We will use `astropy` for FITS file handling, `numpy` and `pandas` for data manipulation, and `scikit-learn` for machine learning."
   ]
  },
  {
   "cell_type": "code",
   "execution_count": null,
   "id": "75d627cf",
   "metadata": {},
   "outputs": [],
   "source": [
    "import numpy as np\n",
    "import pandas as pd\n",
    "from astropy.io import fits\n",
    "from sklearn.ensemble import RandomForestClassifier\n",
    "from sklearn.model_selection import train_test_split\n",
    "from sklearn.metrics import classification_report\n",
    "import matplotlib.pyplot as plt"
   ]
  },
  {
   "cell_type": "markdown",
   "id": "fd20cc48",
   "metadata": {},
   "source": [
    "## 2. Data Extraction\n",
    "\n",
    "Define a function to extract relevant columns (color, magnitude, errors, etc.) from a FITS file and return a pandas DataFrame."
   ]
  },
  {
   "cell_type": "code",
   "execution_count": null,
   "id": "028fa5e2",
   "metadata": {},
   "outputs": [],
   "source": [
    "def extract_fits_data(fits_path, columns):\n",
    "    \"\"\"\n",
    "    Extract specified columns from a FITS file into a pandas DataFrame.\n",
    "    \"\"\"\n",
    "    with fits.open(fits_path) as hdul:\n",
    "        data = hdul[1].data\n",
    "        df = pd.DataFrame({col: data[col] for col in columns})\n",
    "    return df"
   ]
  },
  {
   "cell_type": "markdown",
   "id": "468a8d6d",
   "metadata": {},
   "source": [
    "## 3. Data Cleaning and Feature Engineering\n",
    "\n",
    "Remove rows with missing or out-of-range values, and compute color indices as features for classification."
   ]
  },
  {
   "cell_type": "code",
   "execution_count": null,
   "id": "b740ce79",
   "metadata": {},
   "outputs": [],
   "source": [
    "def clean_and_engineer(df, color_col, mag1_col, mag2_col):\n",
    "    \"\"\"\n",
    "    Clean the DataFrame and compute color indices.\n",
    "    \"\"\"\n",
    "    mask = (\n",
    "        (~np.isnan(df[color_col])) &\n",
    "        (~np.isnan(df[mag1_col])) &\n",
    "        (~np.isnan(df[mag2_col])) &\n",
    "        (df[mag1_col] > 10) & (df[mag1_col] < 25) &\n",
    "        (df[mag2_col] > 10) & (df[mag2_col] < 25) &\n",
    "        (df[color_col] > -3) & (df[color_col] < 4)\n",
    "    )\n",
    "    df_clean = df[mask].copy()\n",
    "    # Example: Add more color indices if available\n",
    "    if 'gab' in df_clean.columns and 'rab' in df_clean.columns:\n",
    "        df_clean['g-r'] = df_clean['gab'] - df_clean['rab']\n",
    "    return df_clean"
   ]
  },
  {
   "cell_type": "markdown",
   "id": "0530adb9",
   "metadata": {},
   "source": [
    "## 4. Example: Load and Prepare Data\n",
    "\n",
    "Specify the FITS file and columns of interest. Adjust these as needed for your dataset."
   ]
  },
  {
   "cell_type": "code",
   "execution_count": null,
   "id": "efaf9064",
   "metadata": {},
   "outputs": [],
   "source": [
    "# Example configuration (edit as needed)\n",
    "fits_file = '/home/osa/Dropbox/PhD/Work/201305-New_colours/int3-8eso2.fits'\n",
    "columns = ['RUN', 'FIELD', 'gab', 'uab', 'rab', 'gaberr', 'uaberr', 'raberr', 'uming_ab', 'gminr_ab']\n",
    "color_col = 'gminr_ab'  # or 'uming_ab'\n",
    "mag1_col = 'gab'\n",
    "mag2_col = 'rab'\n",
    "\n",
    "df = extract_fits_data(fits_file, columns)\n",
    "df_clean = clean_and_engineer(df, color_col, mag1_col, mag2_col)\n",
    "df_clean.head()"
   ]
  },
  {
   "cell_type": "markdown",
   "id": "3d6af478",
   "metadata": {},
   "source": [
    "## 5. Prepare Features and Labels"
   ]
  },
  {
   "cell_type": "code",
   "execution_count": null,
   "id": "20c8592a",
   "metadata": {},
   "outputs": [],
   "source": [
    "# Placeholder: Random labels for demonstration (replace with real labels)\n",
    "np.random.seed(42)\n",
    "df_clean['label'] = np.random.choice(['He-sdO', 'sdB', 'DA', 'QSO', 'sdO', 'binary', 'other'], size=len(df_clean))\n",
    "\n",
    "# Features: Use color indices and magnitudes\n",
    "feature_cols = [color_col, 'g-r'] if 'g-r' in df_clean.columns else [color_col]\n",
    "X = df_clean[feature_cols].values\n",
    "y = df_clean['label'].values"
   ]
  },
  {
   "cell_type": "markdown",
   "id": "3b5e6f85",
   "metadata": {},
   "source": [
    "## 6. Train/Test Split\n",
    "\n",
    "Split the data for training and testing the classifier."
   ]
  },
  {
   "cell_type": "code",
   "execution_count": null,
   "id": "5ada696c",
   "metadata": {},
   "outputs": [],
   "source": [
    "X_train, X_test, y_train, y_test = train_test_split(X, y, test_size=0.3, random_state=42)"
   ]
  },
  {
   "cell_type": "markdown",
   "id": "70ec0033",
   "metadata": {},
   "source": [
    "## 7. Machine Learning Classification\n",
    "\n",
    "Train a Random Forest classifier and evaluate its performance."
   ]
  },
  {
   "cell_type": "code",
   "execution_count": null,
   "id": "f2a002da",
   "metadata": {},
   "outputs": [],
   "source": [
    "clf = RandomForestClassifier(n_estimators=100, random_state=42)\n",
    "clf.fit(X_train, y_train)\n",
    "y_pred = clf.predict(X_test)\n",
    "print(classification_report(y_test, y_pred))"
   ]
  },
  {
   "cell_type": "markdown",
   "id": "19dcc1dd",
   "metadata": {},
   "source": [
    "## 8. Visualize Color-Magnitude Diagram\n",
    "\n",
    "Plot the color-magnitude diagram, coloring by predicted class."
   ]
  },
  {
   "cell_type": "code",
   "execution_count": null,
   "id": "fc1b02fc",
   "metadata": {},
   "outputs": [],
   "source": [
    "plt.figure(figsize=(8,6))\n",
    "scatter = plt.scatter(\n",
    "    df_clean[color_col], df_clean[mag1_col], \n",
    "    c=pd.factorize(df_clean['label'])[0], cmap='tab10', alpha=0.7\n",
    ")\n",
    "plt.xlabel(color_col)\n",
    "plt.ylabel(mag1_col)\n",
    "plt.title('Color-Magnitude Diagram (colored by class)')\n",
    "plt.gca().invert_yaxis()\n",
    "plt.legend(*scatter.legend_elements(), title=\"Class\")\n",
    "plt.show()"
   ]
  },
  {
   "cell_type": "markdown",
   "id": "9259420b",
   "metadata": {},
   "source": [
    "## 9. Predict Star Types for New Data\n",
    "\n",
    "Use the trained classifier to predict star types for new, unlabeled data."
   ]
  },
  {
   "cell_type": "code",
   "execution_count": null,
   "id": "ac3bdb98",
   "metadata": {},
   "outputs": [],
   "source": [
    "def predict_star_types(new_df, clf, feature_cols):\n",
    "    \"\"\"\n",
    "    Predict star types for new data using the trained classifier.\n",
    "    \"\"\"\n",
    "    X_new = new_df[feature_cols].values\n",
    "    return clf.predict(X_new)\n",
    "\n",
    "# Example usage:\n",
    "# predictions = predict_star_types(new_df, clf, feature_cols)"
   ]
  }
 ],
 "metadata": {
  "kernelspec": {
   "display_name": "base",
   "language": "python",
   "name": "python3"
  },
  "language_info": {
   "name": "python",
   "version": "3.12.2"
  }
 },
 "nbformat": 4,
 "nbformat_minor": 5
}
